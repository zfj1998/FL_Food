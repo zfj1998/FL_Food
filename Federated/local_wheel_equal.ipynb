{
 "cells": [
  {
   "cell_type": "code",
   "execution_count": 1,
   "metadata": {},
   "outputs": [],
   "source": [
    "import numpy as np\n",
    "import torch\n",
    "from torch import nn\n",
    "from torch.autograd import Variable\n",
    "from sklearn import preprocessing\n",
    "from sklearn.model_selection import train_test_split\n",
    "from sklearn.metrics import accuracy_score\n",
    "import pandas as pd\n",
    "from collections import Counter\n",
    "import syft as sy "
   ]
  },
  {
   "cell_type": "code",
   "execution_count": 2,
   "metadata": {},
   "outputs": [],
   "source": [
    "torch.manual_seed(42)\n",
    "hook = sy.TorchHook(torch)"
   ]
  },
  {
   "cell_type": "code",
   "execution_count": 3,
   "metadata": {},
   "outputs": [],
   "source": [
    "bob = sy.VirtualWorker(hook, id=\"bob\")\n",
    "alice = sy.VirtualWorker(hook, id=\"alice\")"
   ]
  },
  {
   "cell_type": "code",
   "execution_count": 4,
   "metadata": {},
   "outputs": [],
   "source": [
    "wine_data = pd.read_csv('../data/winequality-white.csv',sep=';')\n",
    "wine_data = wine_data.values\n",
    "x = wine_data[:,:11]\n",
    "x_s = preprocessing.StandardScaler().fit(x)\n",
    "x = x_s.transform(x)\n",
    "y = wine_data[:,11]"
   ]
  },
  {
   "cell_type": "code",
   "execution_count": 5,
   "metadata": {},
   "outputs": [],
   "source": [
    "x_train,x_test,y_train,y_test = train_test_split(x, y, test_size=0.3)\n",
    "X = torch.from_numpy(x_train).type(torch.FloatTensor)\n",
    "Y = torch.from_numpy(y_train).type(torch.FloatTensor)\n",
    "X_t = torch.from_numpy(x_test).type(torch.FloatTensor)\n",
    "Y_t = torch.from_numpy(y_test).type(torch.FloatTensor)"
   ]
  },
  {
   "cell_type": "code",
   "execution_count": 6,
   "metadata": {},
   "outputs": [
    {
     "name": "stdout",
     "output_type": "stream",
     "text": [
      "3428 3428 1470 1470\n"
     ]
    }
   ],
   "source": [
    "print(len(X), len(Y), len(X_t), len(Y_t))"
   ]
  },
  {
   "cell_type": "code",
   "execution_count": 7,
   "metadata": {},
   "outputs": [],
   "source": [
    "BREAKING_TRAIN = 2800\n",
    "BREAKING_TEST = 1200\n",
    "bob_x = X[:BREAKING_TRAIN].send(bob)\n",
    "bob_y = Y[:BREAKING_TRAIN].send(bob)\n",
    "bob_x_t = X_t[:BREAKING_TEST].send(bob)\n",
    "bob_y_t = Y_t[:BREAKING_TEST].send(bob)\n",
    "\n",
    "alice_x = X[BREAKING_TRAIN:].send(alice)\n",
    "alice_y = Y[BREAKING_TRAIN:].send(alice)\n",
    "alice_x_t = X_t[BREAKING_TEST:].send(alice)\n",
    "alice_y_t = Y_t[BREAKING_TEST:].send(alice)\n",
    "\n",
    "data_loader = [(bob_x, bob_y), (alice_x, alice_y)]\n",
    "test_loader = [(bob_x_t, bob_y_t), (alice_x_t, alice_y_t)]"
   ]
  },
  {
   "cell_type": "code",
   "execution_count": 8,
   "metadata": {},
   "outputs": [
    {
     "name": "stdout",
     "output_type": "stream",
     "text": [
      "<VirtualWorker id:bob #objects:4> <VirtualWorker id:bob #objects:4>\n",
      "<VirtualWorker id:alice #objects:4> <VirtualWorker id:alice #objects:4>\n"
     ]
    }
   ],
   "source": [
    "for data, target in test_loader:\n",
    "    print(data.location, target.location)"
   ]
  },
  {
   "cell_type": "code",
   "execution_count": 9,
   "metadata": {},
   "outputs": [],
   "source": [
    "class SVR(nn.Module):\n",
    "    def __init__(self):\n",
    "        super(SVR,self).__init__()\n",
    "        self.fc1 = nn.Linear(11, 1)\n",
    "        self.fc2 = nn.Linear(1, 1)\n",
    "        \n",
    "    def forward(self,x):\n",
    "        x = self.fc1(x)\n",
    "        x = torch.relu(x)\n",
    "        x = self.fc2(x)\n",
    "        return x"
   ]
  },
  {
   "cell_type": "code",
   "execution_count": 10,
   "metadata": {},
   "outputs": [],
   "source": [
    "model = SVR()\n",
    "criterion = nn.MSELoss()"
   ]
  },
  {
   "cell_type": "code",
   "execution_count": 11,
   "metadata": {},
   "outputs": [
    {
     "name": "stdout",
     "output_type": "stream",
     "text": [
      "loss: 31.162527084350586\n"
     ]
    },
    {
     "name": "stderr",
     "output_type": "stream",
     "text": [
      "/home/zfj/anaconda3/envs/torch1.4/lib/python3.7/site-packages/syft/frameworks/torch/tensors/interpreters/native.py:418: UserWarning: Using a target size (torch.Size([2800])) that is different to the input size (torch.Size([2800, 1])). This will likely lead to incorrect results due to broadcasting. Please ensure they have the same size.\n",
      "  response = command_method(*args_, **kwargs_)\n",
      "/home/zfj/anaconda3/envs/torch1.4/lib/python3.7/site-packages/syft/frameworks/torch/tensors/interpreters/native.py:418: UserWarning: Using a target size (torch.Size([628])) that is different to the input size (torch.Size([628, 1])). This will likely lead to incorrect results due to broadcasting. Please ensure they have the same size.\n",
      "  response = command_method(*args_, **kwargs_)\n"
     ]
    },
    {
     "name": "stdout",
     "output_type": "stream",
     "text": [
      "loss: 25.75701904296875\n",
      "loss: 20.52824592590332\n",
      "loss: 16.099811553955078\n",
      "loss: 13.294962882995605\n",
      "loss: 10.524943351745605\n",
      "loss: 7.323026657104492\n",
      "loss: 3.861070394515991\n",
      "loss: 1.7866584062576294\n",
      "loss: 0.8747089505195618\n",
      "loss: 0.7508062124252319\n",
      "loss: 0.7508059740066528\n"
     ]
    }
   ],
   "source": [
    "TOTAL_EPOCH = 1200\n",
    "\n",
    "for epoch in range(TOTAL_EPOCH):\n",
    "    for data, target in data_loader:\n",
    "        model.send(data.location)\n",
    "        optimizer = torch.optim.Adam(model.parameters(), lr=0.001)\n",
    "        optimizer.zero_grad()\n",
    "        output = model(data)\n",
    "        loss = criterion(output, target)\n",
    "        loss.backward()\n",
    "        optimizer.step()\n",
    "        model = model.get()\n",
    "    \n",
    "    if epoch % 100 == 0:\n",
    "        print('loss: {}'.format(loss.get()))"
   ]
  },
  {
   "cell_type": "code",
   "execution_count": 12,
   "metadata": {},
   "outputs": [],
   "source": [
    "# bob:alice 1:1 split epoch 1200 loss:0.7886 accuracy: 0.437 for bob, 0.468 fro alice \n",
    "# bob:alice 1:4 split epoch 1500 loss:0.7582 accuracy: 0.446 for bob, 0.433 fro alice \n",
    "# bob:alice 4:1 split epoch 1200 loss:0.7508 accuracy: 0.47 for bob, 0.44 fro alice "
   ]
  },
  {
   "cell_type": "code",
   "execution_count": 13,
   "metadata": {},
   "outputs": [],
   "source": [
    "model.location"
   ]
  },
  {
   "cell_type": "code",
   "execution_count": 14,
   "metadata": {},
   "outputs": [],
   "source": [
    "def calc_acc_torch(predicted, real):\n",
    "    pre_round = torch.round(predicted)\n",
    "    pr_squeezed = torch.squeeze(pre_round)\n",
    "    correct = (pr_squeezed == real).sum().get().item()\n",
    "    accuracy = correct/len(real)*1.0\n",
    "    return accuracy"
   ]
  },
  {
   "cell_type": "code",
   "execution_count": 15,
   "metadata": {},
   "outputs": [
    {
     "name": "stdout",
     "output_type": "stream",
     "text": [
      "test_score: 0.47\n",
      "\n",
      "test_score: 0.4\n",
      "\n"
     ]
    }
   ],
   "source": [
    "with torch.no_grad():\n",
    "    for data, target in test_loader:\n",
    "        model.send(data.location)\n",
    "        output = model(data)\n",
    "        model = model.get()\n",
    "        print('test_score: {}\\n'.format(calc_acc_torch(output, target)))"
   ]
  }
 ],
 "metadata": {
  "kernelspec": {
   "display_name": "Python [conda env:torch1.4] *",
   "language": "python",
   "name": "conda-env-torch1.4-py"
  },
  "language_info": {
   "codemirror_mode": {
    "name": "ipython",
    "version": 3
   },
   "file_extension": ".py",
   "mimetype": "text/x-python",
   "name": "python",
   "nbconvert_exporter": "python",
   "pygments_lexer": "ipython3",
   "version": "3.7.9"
  }
 },
 "nbformat": 4,
 "nbformat_minor": 4
}
