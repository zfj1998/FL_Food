{
 "cells": [
  {
   "cell_type": "code",
   "execution_count": 1,
   "metadata": {},
   "outputs": [],
   "source": [
    "import numpy as np\n",
    "import torch\n",
    "from torch import nn\n",
    "from torch.autograd import Variable\n",
    "import matplotlib.pyplot as plt"
   ]
  },
  {
   "cell_type": "code",
   "execution_count": 2,
   "metadata": {},
   "outputs": [
    {
     "data": {
      "text/plain": [
       "<torch._C.Generator at 0x7f228a181150>"
      ]
     },
     "execution_count": 2,
     "metadata": {},
     "output_type": "execute_result"
    }
   ],
   "source": [
    "torch.manual_seed(42)"
   ]
  },
  {
   "cell_type": "code",
   "execution_count": 3,
   "metadata": {},
   "outputs": [],
   "source": [
    "class SVR(nn.Module):\n",
    "    def __init__(self):\n",
    "        super(SVR,self).__init__()\n",
    "        self.linearModel=nn.Linear(1,1)\n",
    "        \n",
    "    def forward(self,x):\n",
    "        x = self.linearModel(x)\n",
    "        return x"
   ]
  },
  {
   "cell_type": "code",
   "execution_count": 4,
   "metadata": {},
   "outputs": [],
   "source": [
    "model=SVR()\n",
    "optimizer=torch.optim.SGD(model.parameters(),lr=0.001)"
   ]
  },
  {
   "cell_type": "code",
   "execution_count": 5,
   "metadata": {},
   "outputs": [],
   "source": [
    "def hingeLoss(outputVal,dataOutput,model):\n",
    "    loss1=torch.sum(torch.clamp(1 - torch.matmul(outputVal.t(),dataOutput),min=0))\n",
    "    loss2=torch.sum(model.linearModel.weight ** 2)  # l2 penalty\n",
    "    totalLoss=loss1+loss2\n",
    "    return(totalLoss)\n",
    "criterion = nn.MSELoss()"
   ]
  },
  {
   "cell_type": "code",
   "execution_count": 6,
   "metadata": {},
   "outputs": [],
   "source": [
    "# X=np.random.rand(1000,100).astype(np.float32)\n",
    "# Y=np.random.randint(2,size=(1000)).reshape(1000,1).astype(np.float32)"
   ]
  },
  {
   "cell_type": "code",
   "execution_count": 7,
   "metadata": {},
   "outputs": [],
   "source": [
    "X = 2 * np.random.rand(100, 1).astype(np.float32)\n",
    "Y = 4 + 3 * X + np.random.randn(100, 1).astype(np.float32)"
   ]
  },
  {
   "cell_type": "code",
   "execution_count": 8,
   "metadata": {},
   "outputs": [
    {
     "data": {
      "text/plain": [
       "(100, 1)"
      ]
     },
     "execution_count": 8,
     "metadata": {},
     "output_type": "execute_result"
    }
   ],
   "source": [
    "X.shape"
   ]
  },
  {
   "cell_type": "code",
   "execution_count": 9,
   "metadata": {},
   "outputs": [
    {
     "data": {
      "text/plain": [
       "(100, 1)"
      ]
     },
     "execution_count": 9,
     "metadata": {},
     "output_type": "execute_result"
    }
   ],
   "source": [
    "Y.shape"
   ]
  },
  {
   "cell_type": "code",
   "execution_count": 10,
   "metadata": {},
   "outputs": [
    {
     "data": {
      "image/png": "[encoded data removed]",
      "text/plain": [
       "<Figure size 432x288 with 1 Axes>"
      ]
     },
     "metadata": {
      "needs_background": "light"
     },
     "output_type": "display_data"
    }
   ],
   "source": [
    "plt.scatter(X, Y, color='red')\n",
    "plt.show()"
   ]
  },
  {
   "cell_type": "code",
   "execution_count": 11,
   "metadata": {
    "scrolled": true
   },
   "outputs": [
    {
     "name": "stdout",
     "output_type": "stream",
     "text": [
      "epoch [1/5000], loss:34.3880\n",
      "epoch [101/5000], loss:14.3046\n",
      "epoch [201/5000], loss:6.3032\n",
      "epoch [301/5000], loss:3.1134\n",
      "epoch [401/5000], loss:1.8397\n",
      "epoch [501/5000], loss:1.3294\n",
      "epoch [601/5000], loss:1.1232\n",
      "epoch [701/5000], loss:1.0383\n",
      "epoch [801/5000], loss:1.0019\n",
      "epoch [901/5000], loss:0.9848\n",
      "epoch [1001/5000], loss:0.9757\n",
      "epoch [1101/5000], loss:0.9699\n",
      "epoch [1201/5000], loss:0.9655\n",
      "epoch [1301/5000], loss:0.9617\n",
      "epoch [1401/5000], loss:0.9584\n",
      "epoch [1501/5000], loss:0.9553\n",
      "epoch [1601/5000], loss:0.9524\n",
      "epoch [1701/5000], loss:0.9497\n",
      "epoch [1801/5000], loss:0.9472\n",
      "epoch [1901/5000], loss:0.9448\n",
      "epoch [2001/5000], loss:0.9425\n",
      "epoch [2101/5000], loss:0.9404\n",
      "epoch [2201/5000], loss:0.9384\n",
      "epoch [2301/5000], loss:0.9365\n",
      "epoch [2401/5000], loss:0.9347\n",
      "epoch [2501/5000], loss:0.9330\n",
      "epoch [2601/5000], loss:0.9314\n",
      "epoch [2701/5000], loss:0.9299\n",
      "epoch [2801/5000], loss:0.9285\n",
      "epoch [2901/5000], loss:0.9272\n",
      "epoch [3001/5000], loss:0.9259\n",
      "epoch [3101/5000], loss:0.9247\n",
      "epoch [3201/5000], loss:0.9236\n",
      "epoch [3301/5000], loss:0.9226\n",
      "epoch [3401/5000], loss:0.9216\n",
      "epoch [3501/5000], loss:0.9206\n",
      "epoch [3601/5000], loss:0.9197\n",
      "epoch [3701/5000], loss:0.9189\n",
      "epoch [3801/5000], loss:0.9181\n",
      "epoch [3901/5000], loss:0.9174\n",
      "epoch [4001/5000], loss:0.9167\n",
      "epoch [4101/5000], loss:0.9160\n",
      "epoch [4201/5000], loss:0.9154\n",
      "epoch [4301/5000], loss:0.9148\n",
      "epoch [4401/5000], loss:0.9143\n",
      "epoch [4501/5000], loss:0.9137\n",
      "epoch [4601/5000], loss:0.9132\n",
      "epoch [4701/5000], loss:0.9128\n",
      "epoch [4801/5000], loss:0.9123\n",
      "epoch [4901/5000], loss:0.9119\n"
     ]
    }
   ],
   "source": [
    "for epoch in range(5000):\n",
    "    inputVal=Variable(torch.from_numpy(X))\n",
    "    outputVal=Variable(torch.from_numpy(Y))\n",
    "    optimizer.zero_grad()\n",
    "    modelOutput = model(inputVal)\n",
    "#     loss=hingeLoss(outputVal,modelOutput,model)\n",
    "    loss = criterion(modelOutput, outputVal)\n",
    "    loss.backward()\n",
    "    optimizer.step()\n",
    "    if epoch % 100 == 0:\n",
    "        print('epoch [{}/{}], loss:{:.4f}'.format(epoch + 1, 5000, loss))"
   ]
  },
  {
   "cell_type": "code",
   "execution_count": 12,
   "metadata": {},
   "outputs": [
    {
     "data": {
      "text/plain": [
       "<matplotlib.collections.PathCollection at 0x7f2286d2d6d0>"
      ]
     },
     "execution_count": 12,
     "metadata": {},
     "output_type": "execute_result"
    },
    {
     "data": {
      "image/png": "[encoded data removed]",
      "text/plain": [
       "<Figure size 432x288 with 1 Axes>"
      ]
     },
     "metadata": {
      "needs_background": "light"
     },
     "output_type": "display_data"
    }
   ],
   "source": [
    "Y_predicted = model(Variable(torch.from_numpy(X))).detach().numpy()\n",
    "plt.scatter(X, Y_predicted, color='blue')\n",
    "plt.scatter(X, Y, color='red')"
   ]
  }
 ],
 "metadata": {
  "kernelspec": {
   "display_name": "Python [conda env:torch1.4] *",
   "language": "python",
   "name": "conda-env-torch1.4-py"
  },
  "language_info": {
   "codemirror_mode": {
    "name": "ipython",
    "version": 3
   },
   "file_extension": ".py",
   "mimetype": "text/x-python",
   "name": "python",
   "nbconvert_exporter": "python",
   "pygments_lexer": "ipython3",
   "version": "3.7.9"
  }
 },
 "nbformat": 4,
 "nbformat_minor": 4
}
