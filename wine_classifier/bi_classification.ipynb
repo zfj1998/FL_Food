{
 "cells": [
  {
   "cell_type": "code",
   "execution_count": 1,
   "metadata": {},
   "outputs": [],
   "source": [
    "import sklearn.datasets\n",
    "import torch\n",
    "import torch.nn as nn\n",
    "import torch.nn.functional as F\n",
    "from sklearn.metrics import accuracy_score\n",
    "from sklearn.preprocessing import StandardScaler\n",
    "from sklearn.model_selection import train_test_split\n",
    "from collections import Counter\n",
    "import pandas as pd"
   ]
  },
  {
   "cell_type": "code",
   "execution_count": 2,
   "metadata": {},
   "outputs": [
    {
     "data": {
      "text/plain": [
       "Counter({5.0: 681, 6.0: 638, 7.0: 199, 4.0: 53, 8.0: 18, 3.0: 10})"
      ]
     },
     "execution_count": 2,
     "metadata": {},
     "output_type": "execute_result"
    }
   ],
   "source": [
    "redwine_data = pd.read_csv('../data/winequality-red.csv',sep=';')\n",
    "# redwine_data = pd.read_csv('../data/winequality-white.csv',sep=';')\n",
    "Redwine_datas = redwine_data.values\n",
    "x = Redwine_datas[:,:11]\n",
    "y = Redwine_datas[:,11]\n",
    "Counter(y)"
   ]
  },
  {
   "cell_type": "code",
   "execution_count": 3,
   "metadata": {},
   "outputs": [],
   "source": [
    "x = torch.from_numpy(x).type(torch.FloatTensor)\n",
    "y = torch.from_numpy(y).type(torch.LongTensor)"
   ]
  },
  {
   "cell_type": "code",
   "execution_count": 4,
   "metadata": {},
   "outputs": [],
   "source": [
    "x_train,x_test,y_train,y_test = train_test_split(x,y,test_size=0.3)"
   ]
  },
  {
   "cell_type": "code",
   "execution_count": 5,
   "metadata": {},
   "outputs": [],
   "source": [
    "class MyClassifier(nn.Module):\n",
    "    def __init__(self, first, second, third):\n",
    "        super(MyClassifier,self).__init__()\n",
    "        self.fc1 = nn.Linear(11,first)\n",
    "        self.fc2 = nn.Linear(first,second)\n",
    "        self.fc3 = nn.Linear(second, third)\n",
    "        self.fc4 = nn.Linear(third,2)\n",
    "        \n",
    "    def forward(self,x):\n",
    "        x = self.fc1(x)\n",
    "        x = torch.tanh(x)\n",
    "        x = self.fc2(x)\n",
    "        x = torch.tanh(x)\n",
    "        x = self.fc3(x)\n",
    "        x = torch.tanh(x)\n",
    "        x = self.fc4(x)\n",
    "        return x\n",
    "             \n",
    "    def predict(self,x):\n",
    "        pred = F.softmax(self.forward(x), dim=0)\n",
    "        ans = []\n",
    "        for t in pred:\n",
    "            if t[0]>t[1]:\n",
    "                ans.append(0)\n",
    "            else:\n",
    "                ans.append(1)\n",
    "        return torch.tensor(ans)"
   ]
  },
  {
   "cell_type": "code",
   "execution_count": 6,
   "metadata": {},
   "outputs": [],
   "source": [
    "# ideal_params = [(11, 11),(22, 11),(22, 22),(6, 6),(11, 6),(22, 6)]\n",
    "ideal_params = [(11, 11,11),(6, 6,6),(11, 6, 6)]"
   ]
  },
  {
   "cell_type": "code",
   "execution_count": 7,
   "metadata": {},
   "outputs": [
    {
     "name": "stdout",
     "output_type": "stream",
     "text": [
      "with params (11, 11, 11): minloss:0.2093474119901657  maxtrain:0.8230563002680965  maxtest:0.7541666666666667\n",
      "with params (6, 6, 6): minloss:0.42907634377479553  maxtrain:0.7864164432529044  maxtest:0.75\n",
      "with params (11, 6, 6): minloss:0.35097581148147583  maxtrain:0.803395889186774  maxtest:0.75\n"
     ]
    }
   ],
   "source": [
    "for ideal_param in ideal_params:\n",
    "    model = MyClassifier(*ideal_param)\n",
    "    criterion = nn.CrossEntropyLoss()\n",
    "    optimizer = torch.optim.Adam(model.parameters(), lr=0.01)\n",
    "    epochs = 20000\n",
    "    losses = []\n",
    "    train_accuracy = []\n",
    "    test_accuracy = []\n",
    "    \n",
    "    for i in range(epochs):\n",
    "        x_pred = model.forward(x_train)\n",
    "        loss = criterion(x_pred,y_train)\n",
    "        optimizer.zero_grad()\n",
    "        loss.backward()\n",
    "        optimizer.step()\n",
    "        \n",
    "        if i%50 == 0:\n",
    "            losses.append(loss.item())\n",
    "            train_accuracy.append(accuracy_score(model.predict(x_train), y_train))\n",
    "            test_accuracy.append(accuracy_score(model.predict(x_test), y_test))\n",
    "    \n",
    "    min_loss = min(losses)\n",
    "    max_train = max(train_accuracy)\n",
    "    max_test = max(test_accuracy)\n",
    "    \n",
    "    print('with params {}: minloss:{}  maxtrain:{}  maxtest:{}'.format(ideal_param, min_loss, max_train, max_test))\n",
    "\n"
   ]
  },
  {
   "cell_type": "code",
   "execution_count": null,
   "metadata": {},
   "outputs": [],
   "source": [
    "# red 1w epoch\n",
    "# with params (11, 11): minloss:0.23819774389266968  maxtrain:0.8909740840035746  maxtest:0.7395833333333334\n",
    "# with params (22, 11): minloss:0.17275948822498322  maxtrain:0.9186773905272565  maxtest:0.74375\n",
    "# with params (22, 22): minloss:0.08662816882133484  maxtrain:0.9088471849865952  maxtest:0.73125\n",
    "# with params (6, 6): minloss:0.3797895610332489  maxtrain:0.7890974084003575  maxtest:0.73125\n",
    "# with params (11, 6): minloss:0.33057165145874023  maxtrain:0.80875781948168  maxtest:0.7520833333333333\n",
    "# with params (22, 6): minloss:0.26135367155075073  maxtrain:0.8168007149240393  maxtest:0.7208333333333333\n",
    "\n",
    "# white 1w epoch\n",
    "# with params (11, 11): minloss:0.4417298436164856  maxtrain:0.7698366394399067  maxtest:0.7360544217687075\n",
    "# with params (22, 11): minloss:0.4224976599216461  maxtrain:0.764585764294049  maxtest:0.7482993197278912\n",
    "# with params (22, 22): minloss:0.41760051250457764  maxtrain:0.8004667444574096  maxtest:0.7761904761904762\n",
    "# with params (6, 6): minloss:0.4764550030231476  maxtrain:0.7517502917152858  maxtest:0.7414965986394558\n",
    "\n",
    "# red 1w epoch\n",
    "# with params (11, 11, 11): minloss:0.3271178603172302  maxtrain:0.8203753351206434  maxtest:0.7416666666666667\n",
    "# with params (6, 6, 6): minloss:0.34230032563209534  maxtrain:0.7935656836461126  maxtest:0.7395833333333334\n",
    "# with params (11, 6, 6): minloss:0.32185521721839905  maxtrain:0.8445040214477212  maxtest:0.7666666666666667\n",
    "\n",
    "# red 2w epoch\n",
    "# with params (11, 11, 11): minloss:0.2093474119901657  maxtrain:0.8230563002680965  maxtest:0.7541666666666667\n",
    "# with params (6, 6, 6): minloss:0.42907634377479553  maxtrain:0.7864164432529044  maxtest:0.75\n",
    "# with params (11, 6, 6): minloss:0.35097581148147583  maxtrain:0.803395889186774  maxtest:0.75"
   ]
  }
 ],
 "metadata": {
  "kernelspec": {
   "display_name": "Python 3",
   "language": "python",
   "name": "python3"
  },
  "language_info": {
   "codemirror_mode": {
    "name": "ipython",
    "version": 3
   },
   "file_extension": ".py",
   "mimetype": "text/x-python",
   "name": "python",
   "nbconvert_exporter": "python",
   "pygments_lexer": "ipython3",
   "version": "3.6.12"
  }
 },
 "nbformat": 4,
 "nbformat_minor": 4
}
